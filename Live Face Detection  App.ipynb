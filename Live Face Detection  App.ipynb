{
 "cells": [
  {
   "cell_type": "code",
   "execution_count": 1,
   "metadata": {},
   "outputs": [],
   "source": [
    "import cv2"
   ]
  },
  {
   "cell_type": "code",
   "execution_count": null,
   "metadata": {},
   "outputs": [],
   "source": [
    "# Load Trained Cascade classifier\n",
    "face_cascade  = cv2.CascadeClassifier(\"C:\\\\Users\\\\HP\\\\Desktop\\\\ML Projects\\\\New folder\\\\haarcascade_frontalface_default.xml\")\n",
    "\n",
    "#camera start\n",
    "cap = cv2.VideoCapture(0)\n",
    "\n",
    "while True:\n",
    "     # Read Image From Cam\n",
    "        response, Color_image = cap.read()\n",
    "        \n",
    "     #  gray_image Conversion \n",
    "        gray_image = cv2.cvtColor(color_image, cv2.COLOR_BGR2GRAY)\n",
    "\n",
    "     #  Detect Faces ROI\n",
    "        faces= face_cascade.detectMultiScale(gray_image,1.1, 5)\n",
    "\n",
    "     # Draw Rectangke around the faces\n",
    "        for (x,y,w,h) in faces:\n",
    "              cv2.rectangle(color_image, (x,y), (x+w,y+h), (0, 0, 255),6 )\n",
    "    \n",
    "\n",
    "       #show IMAGE\n",
    "        cv2.imshow(\"Image\", color_image)\n",
    "\n",
    "         #wait to close the window\n",
    "        if cv2.waitKey(1) & 0xFF == ord(\"q\"):\n",
    "            break\n",
    "\n",
    "         #Close all windows\n",
    "        cap.release()\n",
    "        cv2.destroyAllWindows()\n"
   ]
  },
  {
   "cell_type": "code",
   "execution_count": null,
   "metadata": {},
   "outputs": [],
   "source": []
  },
  {
   "cell_type": "code",
   "execution_count": null,
   "metadata": {},
   "outputs": [],
   "source": []
  }
 ],
 "metadata": {
  "kernelspec": {
   "display_name": "Python 3",
   "language": "python",
   "name": "python3"
  },
  "language_info": {
   "codemirror_mode": {
    "name": "ipython",
    "version": 3
   },
   "file_extension": ".py",
   "mimetype": "text/x-python",
   "name": "python",
   "nbconvert_exporter": "python",
   "pygments_lexer": "ipython3",
   "version": "3.7.9"
  }
 },
 "nbformat": 4,
 "nbformat_minor": 4
}
