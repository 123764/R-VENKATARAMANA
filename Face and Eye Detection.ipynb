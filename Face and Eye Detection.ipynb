{
 "cells": [
  {
   "cell_type": "code",
   "execution_count": 1,
   "metadata": {},
   "outputs": [],
   "source": [
    "import cv2 "
   ]
  },
  {
   "cell_type": "code",
   "execution_count": 3,
   "metadata": {},
   "outputs": [],
   "source": [
    "\n",
    "\n",
    "face=cv2.CascadeClassifier(\"C:\\\\Users\\\\HP\\\\Desktop\\\\Computer Vision Projects\\\\haarcascade files\\\\haarcascade_frontalface_default.xml\")\n",
    "\n",
    "eye=cv2.CascadeClassifier(\"C:\\\\Users\\\\HP\\\\Desktop\\\\Computer Vision Projects\\\\haarcascade files\\\\haarcascade_eye.xml\")\n",
    "\n",
    "color=cv2.imread(\"C:\\\\Users\\\\HP\\\\\\Pictures\\\\Saved Pictures\\\\2.jpg\")\n",
    "\n",
    "gray=cv2.cvtColor(color,cv2.COLOR_BGR2GRAY)\n",
    "\n",
    "faces=face.detectMultiScale(gray,1.1,5)\n",
    "\n",
    "for (x,y,w,h) in faces:\n",
    "    cv2.rectangle(color,(x,y),(x+w,y+h),(137,0,255),2)\n",
    "    cv2.imshow(\"sri divya\",color)\n",
    "    cv2.waitKey(0)\n",
    "    roi_gray=gray[y:y+h, x:x+w]\n",
    "    roi_color=color[y:y+h, x:x+w]\n",
    "    eyes=eye.detectMultiScale(roi_gray)\n",
    "    for (ex,ey,ew,eh) in eyes:\n",
    "        cv2.rectangle(roi_color,(ex,ey),(ex+ew,ey+eh),(255,255,0),2)\n",
    "        cv2.imshow(\"sri divya\",color)\n",
    "        cv2.waitKey(0)\n",
    "        \n",
    "        \n",
    "        \n",
    "cv2.destroyAllWindows()        \n",
    "        \n",
    "\n",
    "\n",
    "\n"
   ]
  }
 ],
 "metadata": {
  "kernelspec": {
   "display_name": "Python 3",
   "language": "python",
   "name": "python3"
  },
  "language_info": {
   "codemirror_mode": {
    "name": "ipython",
    "version": 3
   },
   "file_extension": ".py",
   "mimetype": "text/x-python",
   "name": "python",
   "nbconvert_exporter": "python",
   "pygments_lexer": "ipython3",
   "version": "3.7.9"
  }
 },
 "nbformat": 4,
 "nbformat_minor": 4
}
